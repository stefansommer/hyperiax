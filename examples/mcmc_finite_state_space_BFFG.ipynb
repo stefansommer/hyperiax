{
 "cells": [
  {
   "cell_type": "markdown",
   "metadata": {},
   "source": [
    "# MCMC using backward filtering, forward guiding\n",
    "\n",
    "Parameter inference for trees with Gaussian transitions along edges and observations at the leaf nodes following the finite state space example in https://arxiv.org/abs/2203.04155. The conditioning and upwards/downwards message passing and fusing operations is in accordance with the backward filtering, forward guiding approach of Frank van der Meulen, Moritz Schauer et al., see https://arxiv.org/abs/2010.03509 and https://arxiv.org/abs/2203.04155 . The latter reference provides an accesible introduction to the scheme and the notation used in this example."
   ]
  },
  {
   "cell_type": "code",
   "execution_count": 1,
   "metadata": {},
   "outputs": [],
   "source": [
    "%load_ext autoreload\n",
    "%autoreload 2"
   ]
  },
  {
   "cell_type": "code",
   "execution_count": 2,
   "metadata": {},
   "outputs": [],
   "source": [
    "from jax.random import PRNGKey, split\n",
    "import hyperiax\n",
    "import jax\n",
    "from jax import numpy as jnp\n",
    "from hyperiax.execution import LevelwiseTreeExecutor\n",
    "from hyperiax.models import UpLambda\n",
    "from hyperiax.models.functional import product_fuse_children\n",
    "from hyperiax.mcmc import ParameterStore, UniformParameter\n",
    "from hyperiax.mcmc.metropolis_hastings import metropolis_hastings\n",
    "from hyperiax.mcmc.plotting import trace_plots\n",
    "\n",
    "import matplotlib.pyplot as plt\n",
    "from tqdm import tqdm\n"
   ]
  },
  {
   "cell_type": "code",
   "execution_count": 3,
   "metadata": {},
   "outputs": [],
   "source": [
    "key = PRNGKey(42)"
   ]
  },
  {
   "cell_type": "markdown",
   "metadata": {},
   "source": [
    "# Gaussian tree, constant node covariance"
   ]
  },
  {
   "cell_type": "markdown",
   "metadata": {},
   "source": [
    "First, we initialize the tree. We let the data be vectors in $\\mathbb{R}^2$, and we set the root to be $(0,0)$."
   ]
  },
  {
   "cell_type": "code",
   "execution_count": 4,
   "metadata": {},
   "outputs": [
    {
     "name": "stdout",
     "output_type": "stream",
     "text": [
      "Tree: HypTree with 5 levels and 9 nodes\n"
     ]
    }
   ],
   "source": [
    "# create tree and initialize with noise\n",
    "\n",
    "from hyperiax.tree import HypTree, TreeNode\n",
    "from hyperiax.tree.childrenlist import ChildList\n",
    "\n",
    "# example tree, see Figure 1 / Figure 4 tree in https://arxiv.org/abs/2203.04155\n",
    "root = TreeNode(); # x_{-1}\n",
    "x0 = TreeNode(); x0.parent = root; root.children = ChildList([x0])\n",
    "x1 = TreeNode(); x1.parent = x0;\n",
    "x3 = TreeNode(); x3.parent = x0;\n",
    "x0.children = ChildList([x1,x3])\n",
    "x2 = TreeNode(); x2.parent = x1; x1.children = ChildList([x2])\n",
    "v3 = TreeNode(); v3.parent = x2; x2.children = ChildList([v3])\n",
    "x4 = TreeNode(); x4.parent = x3;\n",
    "v2 = TreeNode(); v2.parent = x3; x3.children = ChildList([x4,v2])\n",
    "v1 = TreeNode(); v1.parent = x4; x4.children = ChildList([v1])\n",
    "v1.children = v2.children = v3.children = ChildList()\n",
    "\n",
    "tree = HypTree(root)\n",
    "print('Tree:',tree)\n",
    "#tree.plot_tree()\n",
    "\n",
    "# set types to select the right transitions\n",
    "# types\n",
    "troot = 0; tinner_node = 1; tleaf_node = 2;\n",
    "tree.root['type'] = troot\n",
    "x1['type'] = x2['type'] = x3['type'] = x4['type'] = tinner_node\n",
    "v1['type'] = v2['type'] = v3['type'] = tleaf_node\n",
    "\n",
    "# number of states\n",
    "R = 3\n",
    "\n",
    "# root value\n",
    "tree.root['value'] = jnp.zeros(R)\n",
    "\n",
    "# observations. The extra dimensions compared to https://arxiv.org/abs/2203.04155 is because Hyperiax requires same shapes for all nodes.\n",
    "v1['value'] = jnp.eye(R)[0]\n",
    "v2['value'] = jnp.eye(R)[1]\n",
    "v3['value'] = jnp.eye(R)[2]\n",
    "\n",
    "\n",
    "# transition matrices\n",
    "x0['type'] = troot\n",
    "\n",
    "# root, initial state prior\n",
    "pi1 = pi2 = pi3 = 1/3; \n",
    "km10 = lambda params: jnp.diag([pi1,pi2,pi3])\n",
    "# inner node\n",
    "kst = lambda params: jnp.array([[1.-params['theta'],params['theta'],0.],\n",
    "                                [.25,.5,.25],\n",
    "                                [.4,.3,.3]])\n",
    "# leaves. The extra dimension compared to https://arxiv.org/abs/2203.04155 is because Hyperiax requires same shape for all nodes.\n",
    "lambdi = lambda params: jnp.array([[1.,1.,0.],\n",
    "                                    [1.,1.,0.],\n",
    "                                    [0.,0.,1.]])\n",
    "\n",
    "# using jax.lax.cond instead of python ifs\n",
    "def transition(value,type,params): \n",
    "    return jax.lax.cond(type == tinner_node,\n",
    "        lambda: jnp.dot(kst(params),value),\n",
    "        lambda: jax.lax.cond(type == tleaf_node,\n",
    "            lambda: jnp.dot(lambdi(params),value),\n",
    "            lambda: jnp.array([pi1,pi2,pi3])\n",
    "        )\n",
    "    )\n"
   ]
  },
  {
   "cell_type": "markdown",
   "metadata": {},
   "source": [
    "Parameter for the transition kernel."
   ]
  },
  {
   "cell_type": "code",
   "execution_count": 5,
   "metadata": {},
   "outputs": [],
   "source": [
    "# parameters, theta with uniform prior\n",
    "params = ParameterStore({\n",
    "    'theta': UniformParameter(.5), # theta parameter for kst\n",
    "    })"
   ]
  },
  {
   "cell_type": "markdown",
   "metadata": {},
   "source": [
    "We now define the backwards filter through the up function. In this case, the up operation is matrix multiplication."
   ]
  },
  {
   "cell_type": "code",
   "execution_count": 6,
   "metadata": {},
   "outputs": [],
   "source": [
    "# backwards filter. The operation is vmap'ed over the batch dimension (leading dimension)\n",
    "#@jax.jit\n",
    "def up(value,type,params,**args):\n",
    "    return jax.vmap(lambda value,type: {'value': transition(value,type,params)})(value,type)\n"
   ]
  },
  {
   "cell_type": "markdown",
   "metadata": {},
   "source": [
    "We create the model and executor for the backwards filter (up)."
   ]
  },
  {
   "cell_type": "code",
   "execution_count": 7,
   "metadata": {},
   "outputs": [],
   "source": [
    "# create model and executor\n",
    "upmodel = UpLambda(up_fn=up,fuse_fn=product_fuse_children(axis=0))\n",
    "upexec = LevelwiseTreeExecutor(upmodel)"
   ]
  },
  {
   "cell_type": "markdown",
   "metadata": {},
   "source": [
    "We are now ready to execute the upwards pass."
   ]
  },
  {
   "cell_type": "code",
   "execution_count": 8,
   "metadata": {},
   "outputs": [
    {
     "name": "stdout",
     "output_type": "stream",
     "text": [
      "{'type': 0, 'value': Array([0.33333334, 0.33333334, 0.33333334], dtype=float32)}\n",
      "{'type': 0, 'value': Array([0.109375  , 0.125     , 0.10312501], dtype=float32)}\n",
      "{'type': 1, 'value': Array([0.  , 0.25, 0.3 ], dtype=float32)}\n",
      "{'type': 1, 'value': Array([1.  , 0.75, 0.  ], dtype=float32)}\n",
      "{'type': 1, 'value': Array([0., 0., 1.], dtype=float32)}\n",
      "{'type': 1, 'value': Array([1., 1., 0.], dtype=float32)}\n",
      "{'type': 2, 'value': Array([0., 1., 0.], dtype=float32)}\n",
      "{'type': 2, 'value': Array([0., 0., 1.], dtype=float32)}\n",
      "{'type': 2, 'value': Array([1., 0., 0.], dtype=float32)}\n"
     ]
    }
   ],
   "source": [
    "# execture backwards filter\n",
    "utree = upexec.up(tree,params.values())\n",
    "\n",
    "# print results\n",
    "for node in utree.iter_bfs():\n",
    "    print(node.data)\n"
   ]
  },
  {
   "cell_type": "markdown",
   "metadata": {},
   "source": [
    "# MCMC"
   ]
  },
  {
   "cell_type": "markdown",
   "metadata": {},
   "source": [
    "To be implemented."
   ]
  }
 ],
 "metadata": {
  "kernelspec": {
   "display_name": "jaxenv",
   "language": "python",
   "name": "python3"
  },
  "language_info": {
   "codemirror_mode": {
    "name": "ipython",
    "version": 3
   },
   "file_extension": ".py",
   "mimetype": "text/x-python",
   "name": "python",
   "nbconvert_exporter": "python",
   "pygments_lexer": "ipython3",
   "version": "3.12.3"
  }
 },
 "nbformat": 4,
 "nbformat_minor": 2
}
